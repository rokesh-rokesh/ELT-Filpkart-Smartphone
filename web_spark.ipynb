{
 "cells": [
  {
   "cell_type": "code",
   "execution_count": 1,
   "id": "90c55c78",
   "metadata": {},
   "outputs": [],
   "source": [
    "from pyspark.sql import SparkSession\n",
    "from pyspark.sql.functions import col,expr,substring,regexp_replace,desc\n",
    "from pyspark.sql.functions import max\n",
    "from pyspark.sql.types import LongType"
   ]
  },
  {
   "cell_type": "code",
   "execution_count": 2,
   "id": "5e41d736",
   "metadata": {},
   "outputs": [
    {
     "name": "stdout",
     "output_type": "stream",
     "text": [
      ":: loading settings :: url = jar:file:/home/kafka/.local/lib/python3.8/site-packages/pyspark/jars/ivy-2.5.1.jar!/org/apache/ivy/core/settings/ivysettings.xml\n"
     ]
    },
    {
     "name": "stderr",
     "output_type": "stream",
     "text": [
      "Ivy Default Cache set to: /home/kafka/.ivy2/cache\n",
      "The jars for the packages stored in: /home/kafka/.ivy2/jars\n",
      "org.mongodb.spark#mongo-spark-connector_2.12 added as a dependency\n",
      ":: resolving dependencies :: org.apache.spark#spark-submit-parent-6286a333-d24a-45b3-bf80-ce381be621d8;1.0\n",
      "\tconfs: [default]\n",
      "\tfound org.mongodb.spark#mongo-spark-connector_2.12;2.4.2 in central\n",
      "\tfound org.mongodb#mongo-java-driver;3.12.5 in central\n",
      ":: resolution report :: resolve 631ms :: artifacts dl 10ms\n",
      "\t:: modules in use:\n",
      "\torg.mongodb#mongo-java-driver;3.12.5 from central in [default]\n",
      "\torg.mongodb.spark#mongo-spark-connector_2.12;2.4.2 from central in [default]\n",
      "\t---------------------------------------------------------------------\n",
      "\t|                  |            modules            ||   artifacts   |\n",
      "\t|       conf       | number| search|dwnlded|evicted|| number|dwnlded|\n",
      "\t---------------------------------------------------------------------\n",
      "\t|      default     |   2   |   0   |   0   |   0   ||   2   |   0   |\n",
      "\t---------------------------------------------------------------------\n",
      ":: retrieving :: org.apache.spark#spark-submit-parent-6286a333-d24a-45b3-bf80-ce381be621d8\n",
      "\tconfs: [default]\n",
      "\t0 artifacts copied, 2 already retrieved (0kB/6ms)\n",
      "23/06/15 18:54:33 WARN NativeCodeLoader: Unable to load native-hadoop library for your platform... using builtin-java classes where applicable\n",
      "Setting default log level to \"WARN\".\n",
      "To adjust logging level use sc.setLogLevel(newLevel). For SparkR, use setLogLevel(newLevel).\n"
     ]
    }
   ],
   "source": [
    "spark = SparkSession.builder \\\n",
    "    .appName(\"Phone_deals\") \\\n",
    "    .config(\"spark.mongodb.input.uri\",\"mongodb://127.0.0.1/phone.details\") \\\n",
    "    .config(\"spark.mongodb.output.uri\",\"mongodb://127.0.0.1/phone.details\") \\\n",
    "    .config('spark.jars.packages','org.mongodb.spark:mongo-spark-connector_2.12:2.4.2')\\\n",
    "    .getOrCreate()"
   ]
  },
  {
   "cell_type": "code",
   "execution_count": 3,
   "id": "649a7137",
   "metadata": {},
   "outputs": [
    {
     "name": "stderr",
     "output_type": "stream",
     "text": [
      "                                                                                \r"
     ]
    },
    {
     "name": "stdout",
     "output_type": "stream",
     "text": [
      "root\n",
      " |-- No_of_reviews: string (nullable = true)\n",
      " |-- Phone_name: string (nullable = true)\n",
      " |-- Phone_price: string (nullable = true)\n",
      " |-- Rating: string (nullable = true)\n",
      " |-- _id: struct (nullable = true)\n",
      " |    |-- oid: string (nullable = true)\n",
      "\n"
     ]
    }
   ],
   "source": [
    "df = spark.read.format(\"com.mongodb.spark.sql.DefaultSource\").load()\n",
    "df.printSchema()\n"
   ]
  },
  {
   "cell_type": "code",
   "execution_count": 4,
   "id": "5a2a3e90",
   "metadata": {},
   "outputs": [
    {
     "name": "stdout",
     "output_type": "stream",
     "text": [
      "+-------------+--------------------+-----------+------+\n",
      "|No_of_reviews|          Phone_name|Phone_price|Rating|\n",
      "+-------------+--------------------+-----------+------+\n",
      "|     (37,008)|realme C55 (Rainf...|    ₹10,999|   4.4|\n",
      "|      (9,245)|realme GT 2 (Stee...|    ₹39,999|   4.3|\n",
      "|     (21,867)|POCO C55 (Cool Bl...|     ₹7,749|   4.2|\n",
      "|      (7,266)|POCO M5 (Icy Blue...|     ₹8,999|   4.2|\n",
      "|      (7,726)|POCO X5 Pro 5G (H...|    ₹21,999|   4.3|\n",
      "|     (14,255)|POCO C51 (Royal B...|     ₹6,999|   4.3|\n",
      "|     (76,446)|POCO M4 5G (Yello...|    ₹10,999|   4.2|\n",
      "|      (2,472)|POCO F5 5G (Snows...|    ₹29,999|   4.2|\n",
      "|     (24,136)|SAMSUNG Galaxy F0...|     ₹7,299|   4.2|\n",
      "|     (24,136)|SAMSUNG Galaxy F0...|     ₹7,299|   4.2|\n",
      "|   (1,92,340)|SAMSUNG Galaxy F2...|    ₹15,499|   4.3|\n",
      "|   (1,50,552)|SAMSUNG Galaxy F1...|     ₹9,699|   4.3|\n",
      "|      (3,197)|SAMSUNG Galaxy S2...|    ₹54,999|   4.5|\n",
      "|        (688)|SAMSUNG Galaxy S2...|  ₹1,24,999|   4.3|\n",
      "|     (36,177)|vivo T2x 5G (Auro...|    ₹13,999|   4.5|\n",
      "|     (21,900)|vivo T2 5G (Nitro...|    ₹18,999|   4.5|\n",
      "|     (36,177)|vivo T2x 5G (Mari...|    ₹13,999|   4.5|\n",
      "|      (9,052)|vivo T2x 5G (Auro...|    ₹15,999|   4.4|\n",
      "|      (4,047)|vivo T2 5G (Nitro...|    ₹20,999|   4.4|\n",
      "|     (13,406)|vivo V27 5G (Magi...|    ₹32,999|   4.4|\n",
      "+-------------+--------------------+-----------+------+\n",
      "only showing top 20 rows\n",
      "\n",
      "None\n"
     ]
    }
   ],
   "source": [
    "df = df[df.columns[:-1]]\n",
    "print(df.show())"
   ]
  },
  {
   "cell_type": "code",
   "execution_count": 5,
   "id": "f879e209",
   "metadata": {},
   "outputs": [],
   "source": [
    "df = df.withColumn(\"Rating\",col(\"Rating\").cast(\"float\"))"
   ]
  },
  {
   "cell_type": "code",
   "execution_count": 6,
   "id": "39ce7eb5",
   "metadata": {},
   "outputs": [],
   "source": [
    "df = df.withColumn(\"No_of_reviews\",expr(\"substring(No_of_reviews, 2, length(No_of_reviews)-2)\"))\n",
    "df = df.withColumn(\"No_of_reviews\", regexp_replace(col(\"No_of_reviews\"), \",\", \"\").cast(LongType()))"
   ]
  },
  {
   "cell_type": "code",
   "execution_count": 7,
   "id": "e55a0c14",
   "metadata": {},
   "outputs": [],
   "source": [
    "df = df.withColumn(\"Phone_price\", substring(col(\"Phone_price\"), 2, 100))\n",
    "df = df.withColumn(\"Phone_price\", regexp_replace(col(\"Phone_price\"), \",\", \"\").cast(LongType()))"
   ]
  },
  {
   "cell_type": "code",
   "execution_count": 8,
   "id": "eac9acd6",
   "metadata": {},
   "outputs": [
    {
     "name": "stdout",
     "output_type": "stream",
     "text": [
      "+-------------+--------------------+-----------+------+\n",
      "|No_of_reviews|          Phone_name|Phone_price|Rating|\n",
      "+-------------+--------------------+-----------+------+\n",
      "|        37008|realme C55 (Rainf...|      10999|   4.4|\n",
      "|         9245|realme GT 2 (Stee...|      39999|   4.3|\n",
      "|        21867|POCO C55 (Cool Bl...|       7749|   4.2|\n",
      "|         7266|POCO M5 (Icy Blue...|       8999|   4.2|\n",
      "|         7726|POCO X5 Pro 5G (H...|      21999|   4.3|\n",
      "|        14255|POCO C51 (Royal B...|       6999|   4.3|\n",
      "|        76446|POCO M4 5G (Yello...|      10999|   4.2|\n",
      "|         2472|POCO F5 5G (Snows...|      29999|   4.2|\n",
      "|        24136|SAMSUNG Galaxy F0...|       7299|   4.2|\n",
      "|        24136|SAMSUNG Galaxy F0...|       7299|   4.2|\n",
      "|       192340|SAMSUNG Galaxy F2...|      15499|   4.3|\n",
      "|       150552|SAMSUNG Galaxy F1...|       9699|   4.3|\n",
      "|         3197|SAMSUNG Galaxy S2...|      54999|   4.5|\n",
      "|          688|SAMSUNG Galaxy S2...|     124999|   4.3|\n",
      "|        36177|vivo T2x 5G (Auro...|      13999|   4.5|\n",
      "|        21900|vivo T2 5G (Nitro...|      18999|   4.5|\n",
      "|        36177|vivo T2x 5G (Mari...|      13999|   4.5|\n",
      "|         9052|vivo T2x 5G (Auro...|      15999|   4.4|\n",
      "|         4047|vivo T2 5G (Nitro...|      20999|   4.4|\n",
      "|        13406|vivo V27 5G (Magi...|      32999|   4.4|\n",
      "+-------------+--------------------+-----------+------+\n",
      "only showing top 20 rows\n",
      "\n",
      "None\n"
     ]
    }
   ],
   "source": [
    "print(df.show())"
   ]
  },
  {
   "cell_type": "code",
   "execution_count": 9,
   "id": "ac660f89",
   "metadata": {},
   "outputs": [
    {
     "name": "stdout",
     "output_type": "stream",
     "text": [
      "+-------------+------------------------------------------+-----------+------+\n",
      "|No_of_reviews|Phone_name                                |Phone_price|Rating|\n",
      "+-------------+------------------------------------------+-----------+------+\n",
      "|20029        |MOTOROLA g13 (Matte Charcoal, 128 GB)     |9999       |3.9   |\n",
      "|20029        |MOTOROLA g13 (Matte Charcoal, 128 GB)     |9999       |3.9   |\n",
      "|150552       |SAMSUNG Galaxy F13 (Waterfall Blue, 64 GB)|9699       |4.3   |\n",
      "|150552       |SAMSUNG Galaxy F13 (Waterfall Blue, 64 GB)|9699       |4.3   |\n",
      "|232849       |REDMI 10 (Caribbean Green, 64 GB)         |9499       |4.3   |\n",
      "+-------------+------------------------------------------+-----------+------+\n",
      "\n",
      "None\n"
     ]
    }
   ],
   "source": [
    "df1 = df.filter((df[\"Phone_price\"] < 10000))\n",
    "Under_ten = df1.sort(desc(\"Phone_price\"),desc(\"Rating\"),desc(\"No_of_reviews\")).limit(5)\n",
    "print(Under_ten.show(truncate=False))"
   ]
  },
  {
   "cell_type": "code",
   "execution_count": 10,
   "id": "a43e1e4b",
   "metadata": {},
   "outputs": [
    {
     "name": "stdout",
     "output_type": "stream",
     "text": [
      "+-------------+--------------------------------------+-----------+------+\n",
      "|No_of_reviews|Phone_name                            |Phone_price|Rating|\n",
      "+-------------+--------------------------------------+-----------+------+\n",
      "|17362        |realme 10 Pro 5G (Nebula Blue, 128 GB)|19999      |4.3   |\n",
      "|21900        |vivo T2 5G (Nitro Blaze, 128 GB)      |18999      |4.5   |\n",
      "|21900        |vivo T2 5G (Nitro Blaze, 128 GB)      |18999      |4.5   |\n",
      "|69636        |OPPO K10 5G (Ocean Blue, 128 GB)      |17499      |4.4   |\n",
      "|69636        |OPPO K10 5G (Ocean Blue, 128 GB)      |17499      |4.4   |\n",
      "+-------------+--------------------------------------+-----------+------+\n",
      "\n",
      "None\n"
     ]
    }
   ],
   "source": [
    "df2 = df.filter((df[\"Phone_price\"] <= 20000))\n",
    "Under_twenty = df2.sort(desc(\"Phone_price\"),desc(\"Rating\"),desc(\"No_of_reviews\")).limit(5)\n",
    "print(Under_twenty.show(truncate=False))"
   ]
  },
  {
   "cell_type": "code",
   "execution_count": 11,
   "id": "14f8dec5",
   "metadata": {},
   "outputs": [
    {
     "name": "stdout",
     "output_type": "stream",
     "text": [
      "+-------------+--------------------------------------------+-----------+------+\n",
      "|No_of_reviews|Phone_name                                  |Phone_price|Rating|\n",
      "+-------------+--------------------------------------------+-----------+------+\n",
      "|10945        |REDMI Note 12 Pro+ 5G (Iceberg Blue, 256 GB)|29999      |4.3   |\n",
      "|10945        |REDMI Note 12 Pro+ 5G (Iceberg Blue, 256 GB)|29999      |4.3   |\n",
      "|9867         |OPPO Reno8T 5G (Sunrise Gold, 128 GB)       |29999      |4.3   |\n",
      "|9867         |OPPO Reno8T 5G (Sunrise Gold, 128 GB)       |29999      |4.3   |\n",
      "|2472         |POCO F5 5G (Snowstorm White, 256 GB)        |29999      |4.2   |\n",
      "+-------------+--------------------------------------------+-----------+------+\n",
      "\n",
      "None\n"
     ]
    }
   ],
   "source": [
    "df3 = df.filter((df[\"Phone_price\"] <= 30000))\n",
    "Under_thirty = df3.sort(desc(\"Phone_price\"),desc(\"Rating\"),desc(\"No_of_reviews\")).limit(5)\n",
    "print(Under_thirty.show(truncate=False))"
   ]
  },
  {
   "cell_type": "code",
   "execution_count": 12,
   "id": "e33db0b0",
   "metadata": {},
   "outputs": [
    {
     "name": "stdout",
     "output_type": "stream",
     "text": [
      "+-------------+-----------------------------------+-----------+------+\n",
      "|No_of_reviews|Phone_name                         |Phone_price|Rating|\n",
      "+-------------+-----------------------------------+-----------+------+\n",
      "|4541         |Google Pixel 7 (Lemongrass, 128 GB)|49999      |4.4   |\n",
      "|4541         |Google Pixel 7 (Snow, 128 GB)      |49999      |4.4   |\n",
      "|4541         |Google Pixel 7 (Snow, 128 GB)      |49999      |4.4   |\n",
      "|4541         |Google Pixel 7 (Obsidian, 128 GB)  |49999      |4.4   |\n",
      "|4541         |Google Pixel 7 (Obsidian, 128 GB)  |49999      |4.4   |\n",
      "+-------------+-----------------------------------+-----------+------+\n",
      "\n",
      "None\n"
     ]
    }
   ],
   "source": [
    "df4 = df.filter((df[\"Phone_price\"] <= 50000))\n",
    "Under_fifty = df4.sort(desc(\"Phone_price\"),desc(\"Rating\"),desc(\"No_of_reviews\")).limit(5)\n",
    "print(Under_fifty.show(truncate=False))"
   ]
  },
  {
   "cell_type": "code",
   "execution_count": 13,
   "id": "f06e47bd",
   "metadata": {},
   "outputs": [
    {
     "name": "stdout",
     "output_type": "stream",
     "text": [
      "+-------------+-------------------------------------------+-----------+------+\n",
      "|No_of_reviews|Phone_name                                 |Phone_price|Rating|\n",
      "+-------------+-------------------------------------------+-----------+------+\n",
      "|688          |SAMSUNG Galaxy S23 Ultra 5G (Green, 256 GB)|124999     |4.3   |\n",
      "|688          |SAMSUNG Galaxy S23 Ultra 5G (Green, 256 GB)|124999     |4.3   |\n",
      "|209          |OPPO Find N2 Flip (Moonlit Purple, 256 GB) |89999      |4.3   |\n",
      "|209          |OPPO Find N2 Flip (Astral Black, 256 GB)   |89999      |4.3   |\n",
      "|209          |OPPO Find N2 Flip (Astral Black, 256 GB)   |89999      |4.3   |\n",
      "+-------------+-------------------------------------------+-----------+------+\n",
      "\n",
      "None\n"
     ]
    }
   ],
   "source": [
    "df5 = df.filter((df[\"Phone_price\"] > 50000))\n",
    "greater_than_fifty = df5.sort(desc(\"Phone_price\"),desc(\"Rating\"),desc(\"No_of_reviews\")).limit(5)\n",
    "print(greater_than_fifty.show(truncate=False))"
   ]
  },
  {
   "cell_type": "code",
   "execution_count": null,
   "id": "ceefcd06",
   "metadata": {},
   "outputs": [],
   "source": []
  },
  {
   "cell_type": "code",
   "execution_count": null,
   "id": "a09fadf0",
   "metadata": {},
   "outputs": [],
   "source": []
  }
 ],
 "metadata": {
  "kernelspec": {
   "display_name": "Python 3 (ipykernel)",
   "language": "python",
   "name": "python3"
  },
  "language_info": {
   "codemirror_mode": {
    "name": "ipython",
    "version": 3
   },
   "file_extension": ".py",
   "mimetype": "text/x-python",
   "name": "python",
   "nbconvert_exporter": "python",
   "pygments_lexer": "ipython3",
   "version": "3.8.10"
  }
 },
 "nbformat": 4,
 "nbformat_minor": 5
}
